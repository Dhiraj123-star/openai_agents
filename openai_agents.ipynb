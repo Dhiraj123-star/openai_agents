{
 "cells": [
  {
   "cell_type": "code",
   "execution_count": 1,
   "id": "b6eb1171",
   "metadata": {},
   "outputs": [],
   "source": [
    "import os\n",
    "from dotenv import load_dotenv\n",
    "from agents import Agent, Runner\n",
    "\n",
    "load_dotenv()\n",
    "\n",
    "api_key = os.getenv(\"OPENAI_API_KEY\")\n",
    "if not api_key:\n",
    "    raise ValueError(\"OPENAI_API_KEY environment variable not set\")"
   ]
  },
  {
   "cell_type": "code",
   "execution_count": 5,
   "id": "7f4b6eb4",
   "metadata": {},
   "outputs": [
    {
     "name": "stdout",
     "output_type": "stream",
     "text": [
      "The capital of France is Paris.\n"
     ]
    }
   ],
   "source": [
    "agent = Agent(\n",
    "    name=\"Test Agent\",\n",
    "    instructions=\"A helpful assistant that can perform tasks.\",\n",
    "\n",
    ")\n",
    "result =await Runner.run(agent, \"What is the capital of France?\")\n",
    "print(result.final_output)"
   ]
  },
  {
   "cell_type": "code",
   "execution_count": 9,
   "id": "ac6f4ebe",
   "metadata": {},
   "outputs": [],
   "source": [
    "from agents import Agent,Runner,ModelSettings\n",
    "from dotenv import load_dotenv\n",
    "\n",
    "load_dotenv()\n",
    "\n",
    "# define detailed instructions for weather assistant\n",
    "\n",
    "weather_instructions=\"\"\"\n",
    "You are a weather information assistant who helps user understand weather patterns and phenomena.\n",
    "\n",
    "YOUR EXPERTISE:\n",
    " - Explaining weather concepts and terminology\n",
    " - Describing how different weather systems work\n",
    " - Answering questions about climate and seasonal patterns\n",
    " - Explaining the science behind weather events\n",
    "\n",
    "LIMITATIONS:\n",
    "- You cannot provide real time weather forecasts for specific locations\n",
    "- You don't have the current weather data\n",
    "- You should not make predictions about future weather events\n",
    "\n",
    "STYLE:\n",
    "\n",
    "- Use clear , accessible language that non-meterologists can understand\n",
    "- Include interesting weather facts when relevant\n",
    "- Be enthusiastic about meteorology and climate science\n",
    "\"\"\"\n",
    "\n",
    "# create specialised weather assistant\n",
    "weather_assistant= Agent(\n",
    "    name ='WeatherAssist',\n",
    "    instructions=weather_instructions,\n",
    "    model=\"gpt-4.1-mini\",\n",
    "    model_settings= ModelSettings(\n",
    "        temperature=0.5,\n",
    "        max_tokens=256\n",
    "    )\n",
    ")"
   ]
  },
  {
   "cell_type": "code",
   "execution_count": 10,
   "id": "712e2e76",
   "metadata": {},
   "outputs": [
    {
     "name": "stdout",
     "output_type": "stream",
     "text": [
      "Absolutely! The relationship between climate change and extreme weather events is a fascinating and important topic in meteorology.\n",
      "\n",
      "Climate change refers to long-term shifts in temperature, precipitation, and other atmospheric conditions on Earth, primarily driven by increased greenhouse gases like carbon dioxide from human activities. These changes affect the patterns and intensity of weather events.\n",
      "\n",
      "Here’s how climate change influences extreme weather:\n",
      "\n",
      "1. **Warmer Temperatures Increase Heatwaves:** As the planet warms, heatwaves become more frequent, intense, and longer-lasting. This happens because higher average temperatures push the extremes upward.\n",
      "\n",
      "2. **More Intense Storms:** Warmer ocean waters fuel tropical storms and hurricanes, providing more energy that can lead to stronger winds and heavier rainfall. This means storms can become more destructive.\n",
      "\n",
      "3. **Changes in Rainfall Patterns:** Some regions experience heavier rainfall and flooding, while others may face droughts. A warmer atmosphere holds more moisture, so when it rains, it can pour more intensely.\n",
      "\n",
      "4. **Increased Wildfire Risk:** Hotter and drier conditions, influenced by climate change, create ideal environments for wildfires to start and spread.\n",
      "\n",
      "5. **Shifts in Weather Patterns:** Climate change can alter jet streams and atmospheric circulation, which affects where and how weather systems move, sometimes causing\n"
     ]
    }
   ],
   "source": [
    "result= await Runner.run(\n",
    "    weather_assistant,\"can you tell me about the relationship between climate change and extreme weather events\"\n",
    ")\n",
    "\n",
    "print(result.final_output)"
   ]
  },
  {
   "cell_type": "code",
   "execution_count": 12,
   "id": "0413e90b",
   "metadata": {},
   "outputs": [
    {
     "name": "stdout",
     "output_type": "stream",
     "text": [
      "Recent advancements in AI agent technologies have led to significant developments across various sectors, enhancing automation, efficiency, and user experience. Key progressions include:\n",
      "\n",
      "**1. Integration of AI Agents into Business Platforms**\n",
      "\n",
      "- **Microsoft 365 Copilot**: Microsoft has fully integrated AI agents into Microsoft Teams, SharePoint, and Viva Engage. These agents function proactively, setting meeting agendas, organizing files, guiding discussions, and monitoring task progress, thereby enhancing teamwork and productivity. ([windowscentral.com](https://www.windowscentral.com/artificial-intelligence/microsoft-copilot/microsoft-365-copilot-ai-agents-reach-new-milestone?utm_source=openai))\n",
      "\n",
      "- **Salesforce's Agentforce**: Salesforce introduced Agentforce, a suite of generative AI agents designed for sales, marketing, commerce, and customer service roles. Powered by the Atlas reasoning engine, these agents aim to operate autonomously within defined parameters, reducing the need for direct human supervision. ([axios.com](https://www.axios.com/2024/09/12/salesforce-ai-agents-atlas-reasoning?utm_source=openai))\n",
      "\n",
      "**2. Development of Autonomous AI Agents**\n",
      "\n",
      "- **OpenAI's Operator**: OpenAI unveiled 'Operator,' an AI tool capable of performing web-based tasks by interacting with on-screen elements. This advancement allows users to automate various activities, from creating to-do lists to planning vacations, marking a significant step toward autonomous AI agents. ([reuters.com](https://www.reuters.com/technology/artificial-intelligence/openai-unveils-tool-automate-web-tasks-ai-agents-take-center-stage-2025-01-23/?utm_source=openai))\n",
      "\n",
      "- **Amazon's Bedrock AgentCore**: Amazon Web Services introduced Bedrock AgentCore, a platform designed to simplify the development and deployment of advanced AI agents. It offers modular services supporting the full production lifecycle, including scalable serverless deployment and context management, facilitating the creation of dynamic and autonomous agents. ([techradar.com](https://www.techradar.com/pro/aws-looks-to-super-charge-ai-agents-with-amazon-bedrock-agentcore?utm_source=openai))\n",
      "\n",
      "**3. Expansion of AI Agents in Customer Experience**\n",
      "\n",
      "- **Adobe's AI Tools**: Adobe launched a suite of AI agent tools aimed at enhancing customer experiences and marketing effectiveness. Integrated into Adobe's Experience Platform, these tools support context-aware, multi-step functionalities, allowing businesses to create tailored AI solutions aligned with specific goals. ([techradar.com](https://www.techradar.com/pro/adobes-suite-of-new-ai-tools-aimed-at-helping-businesses-create-the-best-customer-experience-are-here?utm_source=openai))\n",
      "\n",
      "**4. Emergence of Specialized AI Agents**\n",
      "\n",
      "- **AI Agents in Legal and Compliance**: AI agents are increasingly utilized in legal and compliance sectors for tasks such as contract analysis, compliance monitoring, and serving as virtual legal assistants. These agents expedite processes and ensure accuracy, transforming traditional legal workflows. ([uxmatters.com](https://www.uxmatters.com/mt/archives/2025/09/beyond-chatbots-5-emerging-ai-agent-applications-1.php?utm_source=openai))\n",
      "\n",
      "- **AI Agents in Supply Chain and Logistics**: The integration of AI agents in supply chain management has led to optimized routes, efficient warehouse operations, and improved inventory management, significantly enhancing operational efficiency. ([uxmatters.com](https://www.uxmatters.com/mt/archives/2025/09/beyond-chatbots-5-emerging-ai-agent-applications-1.php?utm_source=openai))\n",
      "\n",
      "**5. Advancements in Multimodal and Collaborative AI Agents**\n",
      "\n",
      "- **Multimodal Capabilities**: AI agents are evolving to process and respond to various input types, including text, voice, and images, enabling more natural and effective interactions across different platforms and devices. ([globalthinking.ai](https://globalthinking.ai/trends-in-ai-agent-development/?utm_source=openai))\n",
      "\n",
      "- **Collaborative Multi-Agent Systems**: The development of systems where multiple AI agents collaborate to solve complex problems is gaining traction. This approach offers flexibility, parallelism, and robustness, particularly in applications like supply chain optimization and autonomous vehicles. ([experro.com](https://www.experro.com/blog/ai-agent-trends/?utm_source=openai))\n",
      "\n",
      "**6. Ethical Considerations and Governance**\n",
      "\n",
      "- **Ethical AI Development**: As AI agents become more integrated into various sectors, there is an increased emphasis on ethical considerations, including explainable AI, bias reduction, and adherence to ethical guidelines and regulatory requirements. ([globalthinking.ai](https://globalthinking.ai/trends-in-ai-agent-development/?utm_source=openai))\n",
      "\n",
      "These developments underscore the rapid evolution of AI agent technologies, highlighting their expanding role in automating tasks, enhancing user experiences, and driving innovation across multiple industries.\n",
      "\n",
      "\n",
      "## Recent Developments in AI Agent Technologies:\n",
      "- [Microsoft 365 Copilot AI agents reach a new milestone - is teamwork about to change?](https://www.windowscentral.com/artificial-intelligence/microsoft-copilot/microsoft-365-copilot-ai-agents-reach-new-milestone?utm_source=openai)\n",
      "- [OpenAI unveils tool to automate web tasks as AI agents take center-stage](https://www.reuters.com/technology/artificial-intelligence/openai-unveils-tool-automate-web-tasks-ai-agents-take-center-stage-2025-01-23/?utm_source=openai)news14 \n"
     ]
    }
   ],
   "source": [
    "from agents import Agent, Runner,WebSearchTool\n",
    "from dotenv import load_dotenv\n",
    "\n",
    "load_dotenv()\n",
    "\n",
    "# create a research assistant with web search capabilities\n",
    "research_assistant= Agent(\n",
    "    name = \"Research Assistant\",\n",
    "    instructions = \"\"\"\n",
    "    You're a research assistant who helps users find accurate and up-to-date information on various topics.\n",
    "    1. Search the web for relevant information using the web search tool.\n",
    "    2. Synthesize the information you find into a coherent response.\n",
    "    3. Cite your sources when providing information.\n",
    "    4. If you cannot find the information, be honest about it.\n",
    "    5. Structure your responses clearly and logically and in bullet points when appropriate.\n",
    "    6. Use formal and academic language.\n",
    "    \"\"\",\n",
    "    tools=[WebSearchTool()],\n",
    "    model=\"gpt-4.1-mini\",\n",
    ")\n",
    "\n",
    "async def research_topic(topic):\n",
    "    result = await Runner.run(\n",
    "        research_assistant, f\"Please research and summarize the latest findings on the topic: {topic}\"\n",
    "    )\n",
    "    return result.final_output\n",
    "\n",
    "summary=await research_topic(\"Advancements in AI Agens technologies\")\n",
    "print(summary)\n"
   ]
  },
  {
   "cell_type": "code",
   "execution_count": null,
   "id": "b33139f8",
   "metadata": {},
   "outputs": [],
   "source": []
  }
 ],
 "metadata": {
  "kernelspec": {
   "display_name": "venv",
   "language": "python",
   "name": "python3"
  },
  "language_info": {
   "codemirror_mode": {
    "name": "ipython",
    "version": 3
   },
   "file_extension": ".py",
   "mimetype": "text/x-python",
   "name": "python",
   "nbconvert_exporter": "python",
   "pygments_lexer": "ipython3",
   "version": "3.12.3"
  }
 },
 "nbformat": 4,
 "nbformat_minor": 5
}
