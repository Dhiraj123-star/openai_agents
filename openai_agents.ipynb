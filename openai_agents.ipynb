{
 "cells": [
  {
   "cell_type": "code",
   "execution_count": 1,
   "id": "b6eb1171",
   "metadata": {},
   "outputs": [],
   "source": [
    "import os\n",
    "from dotenv import load_dotenv\n",
    "from agents import Agent, Runner\n",
    "\n",
    "load_dotenv()\n",
    "\n",
    "api_key = os.getenv(\"OPENAI_API_KEY\")\n",
    "if not api_key:\n",
    "    raise ValueError(\"OPENAI_API_KEY environment variable not set\")"
   ]
  },
  {
   "cell_type": "code",
   "execution_count": 5,
   "id": "7f4b6eb4",
   "metadata": {},
   "outputs": [
    {
     "name": "stdout",
     "output_type": "stream",
     "text": [
      "The capital of France is Paris.\n"
     ]
    }
   ],
   "source": [
    "agent = Agent(\n",
    "    name=\"Test Agent\",\n",
    "    instructions=\"A helpful assistant that can perform tasks.\",\n",
    "\n",
    ")\n",
    "result =await Runner.run(agent, \"What is the capital of France?\")\n",
    "print(result.final_output)"
   ]
  },
  {
   "cell_type": "code",
   "execution_count": 9,
   "id": "ac6f4ebe",
   "metadata": {},
   "outputs": [],
   "source": [
    "from agents import Agent,Runner,ModelSettings\n",
    "from dotenv import load_dotenv\n",
    "\n",
    "load_dotenv()\n",
    "\n",
    "# define detailed instructions for weather assistant\n",
    "\n",
    "weather_instructions=\"\"\"\n",
    "You are a weather information assistant who helps user understand weather patterns and phenomena.\n",
    "\n",
    "YOUR EXPERTISE:\n",
    " - Explaining weather concepts and terminology\n",
    " - Describing how different weather systems work\n",
    " - Answering questions about climate and seasonal patterns\n",
    " - Explaining the science behind weather events\n",
    "\n",
    "LIMITATIONS:\n",
    "- You cannot provide real time weather forecasts for specific locations\n",
    "- You don't have the current weather data\n",
    "- You should not make predictions about future weather events\n",
    "\n",
    "STYLE:\n",
    "\n",
    "- Use clear , accessible language that non-meterologists can understand\n",
    "- Include interesting weather facts when relevant\n",
    "- Be enthusiastic about meteorology and climate science\n",
    "\"\"\"\n",
    "\n",
    "# create specialised weather assistant\n",
    "weather_assistant= Agent(\n",
    "    name ='WeatherAssist',\n",
    "    instructions=weather_instructions,\n",
    "    model=\"gpt-4.1-mini\",\n",
    "    model_settings= ModelSettings(\n",
    "        temperature=0.5,\n",
    "        max_tokens=256\n",
    "    )\n",
    ")"
   ]
  },
  {
   "cell_type": "code",
   "execution_count": 10,
   "id": "712e2e76",
   "metadata": {},
   "outputs": [
    {
     "name": "stdout",
     "output_type": "stream",
     "text": [
      "Absolutely! The relationship between climate change and extreme weather events is a fascinating and important topic in meteorology.\n",
      "\n",
      "Climate change refers to long-term shifts in temperature, precipitation, and other atmospheric conditions on Earth, primarily driven by increased greenhouse gases like carbon dioxide from human activities. These changes affect the patterns and intensity of weather events.\n",
      "\n",
      "Here’s how climate change influences extreme weather:\n",
      "\n",
      "1. **Warmer Temperatures Increase Heatwaves:** As the planet warms, heatwaves become more frequent, intense, and longer-lasting. This happens because higher average temperatures push the extremes upward.\n",
      "\n",
      "2. **More Intense Storms:** Warmer ocean waters fuel tropical storms and hurricanes, providing more energy that can lead to stronger winds and heavier rainfall. This means storms can become more destructive.\n",
      "\n",
      "3. **Changes in Rainfall Patterns:** Some regions experience heavier rainfall and flooding, while others may face droughts. A warmer atmosphere holds more moisture, so when it rains, it can pour more intensely.\n",
      "\n",
      "4. **Increased Wildfire Risk:** Hotter and drier conditions, influenced by climate change, create ideal environments for wildfires to start and spread.\n",
      "\n",
      "5. **Shifts in Weather Patterns:** Climate change can alter jet streams and atmospheric circulation, which affects where and how weather systems move, sometimes causing\n"
     ]
    }
   ],
   "source": [
    "result= await Runner.run(\n",
    "    weather_assistant,\"can you tell me about the relationship between climate change and extreme weather events\"\n",
    ")\n",
    "\n",
    "print(result.final_output)"
   ]
  },
  {
   "cell_type": "code",
   "execution_count": null,
   "id": "0413e90b",
   "metadata": {},
   "outputs": [],
   "source": []
  }
 ],
 "metadata": {
  "kernelspec": {
   "display_name": "venv",
   "language": "python",
   "name": "python3"
  },
  "language_info": {
   "codemirror_mode": {
    "name": "ipython",
    "version": 3
   },
   "file_extension": ".py",
   "mimetype": "text/x-python",
   "name": "python",
   "nbconvert_exporter": "python",
   "pygments_lexer": "ipython3",
   "version": "3.12.3"
  }
 },
 "nbformat": 4,
 "nbformat_minor": 5
}
